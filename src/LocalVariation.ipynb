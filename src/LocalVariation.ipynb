{
 "cells": [
  {
   "cell_type": "markdown",
   "id": "9912993f",
   "metadata": {},
   "source": [
    "# Graph Coarsening on Cora Dataset using Local Variation Algorithms"
   ]
  },
  {
   "cell_type": "markdown",
   "id": "165b075b",
   "metadata": {},
   "source": [
    "## Import"
   ]
  },
  {
   "cell_type": "code",
   "execution_count": 1,
   "id": "2ffa64b8",
   "metadata": {},
   "outputs": [
    {
     "name": "stderr",
     "output_type": "stream",
     "text": [
      "/home/white/miniconda3/envs/dml/lib/python3.11/site-packages/torch/__config__.py:9: UserWarning: CUDA initialization: CUDA unknown error - this may be due to an incorrectly set up environment, e.g. changing env variable CUDA_VISIBLE_DEVICES after program start. Setting the available devices to be zero. (Triggered internally at ../c10/cuda/CUDAFunctions.cpp:108.)\n",
      "  return torch._C._show_config()\n"
     ]
    },
    {
     "name": "stdout",
     "output_type": "stream",
     "text": [
      "Using device: cpu\n"
     ]
    }
   ],
   "source": [
    "import os\n",
    "import sys\n",
    "import numpy as np\n",
    "\n",
    "# pygsp\n",
    "from pygsp import graphs\n",
    "\n",
    "# scipy\n",
    "import scipy as sp\n",
    "\n",
    "# torch\n",
    "import torch\n",
    "import torch.nn as nn\n",
    "import torch.nn.functional as F\n",
    "import torch.optim as optim\n",
    "\n",
    "# torch geometric\n",
    "from torch_geometric.nn import GCNConv\n",
    "from torch_geometric.data import Data\n",
    "from torch_geometric.utils import to_undirected\n",
    "\n",
    "# sklearn\n",
    "from sklearn.preprocessing import LabelEncoder\n",
    "from sklearn.metrics import accuracy_score, classification_report\n",
    "\n",
    "# graph coarsening - Loukas 2020\n",
    "from graphcoarsening.graph_coarsening.coarsening_utils import *\n",
    "from graphcoarsening.graph_coarsening.graph_utils import *\n",
    "\n",
    "# datasets\n",
    "data_path = os.path.abspath(os.path.join(\"..\", \"data\"))\n",
    "if data_path not in sys.path:\n",
    "    sys.path.append(data_path)\n",
    "from cora.load_cora import load_cora_dataset\n",
    "\n",
    "# utils\n",
    "from utils.split_dataset import *\n",
    "from utils.visualization import *\n",
    "\n",
    "\n",
    "device = torch.device(\"cuda\" if torch.cuda.is_available() else \"cpu\")\n",
    "print(f\"Using device: {device}\")"
   ]
  },
  {
   "cell_type": "code",
   "execution_count": 2,
   "id": "c48bb2ec",
   "metadata": {},
   "outputs": [],
   "source": [
    "# load dataset\n",
    "NODE_IDS, FEATURES, LABELS, EDGES_IDX, IDX_MAP = load_cora_dataset(log_info=False)"
   ]
  },
  {
   "cell_type": "markdown",
   "id": "9831d87c",
   "metadata": {},
   "source": [
    "## GNN"
   ]
  },
  {
   "cell_type": "code",
   "execution_count": 3,
   "id": "f13707a4",
   "metadata": {},
   "outputs": [],
   "source": [
    "class GCN(nn.Module):\n",
    "    def __init__(self, nfeat, nhid, nclass, dropout=.5):\n",
    "        super(GCN, self).__init__()\n",
    "        self.conv1 = GCNConv(nfeat, nhid)\n",
    "        self.conv2 = GCNConv(nhid, nclass)\n",
    "        self.dropout = dropout\n",
    "\n",
    "    def forward(self, x, edge_index):\n",
    "        x = F.relu(self.conv1(x, edge_index))\n",
    "        x = F.dropout(x, self.dropout, training=self.training)\n",
    "        x = self.conv2(x, edge_index)\n",
    "        return F.log_softmax(x, dim=1)"
   ]
  },
  {
   "cell_type": "code",
   "execution_count": 4,
   "id": "27794d6f",
   "metadata": {},
   "outputs": [],
   "source": [
    "def create_pyg_data(features, edges_idx, labels):\n",
    "    x = torch.FloatTensor(features.astype(np.float32))\n",
    "    edge_index = torch.LongTensor(edges_idx.T)  # expects (2, num_edges)\n",
    "    y = torch.LongTensor(labels)\n",
    "    \n",
    "    edge_index = to_undirected(edge_index)\n",
    "    \n",
    "    return Data(x=x, edge_index=edge_index, y=y)\n",
    "\n",
    "\n",
    "def train_gnn(model: nn.Module, optimizer: optim.Optimizer, data: Data, train_idx, val_idx, epochs=200):\n",
    "    train_losses = []\n",
    "    val_losses = []\n",
    "    val_accuracies = []\n",
    "    \n",
    "    data = data.to(next(model.parameters()).device)\n",
    "    \n",
    "    for epoch in range(epochs):\n",
    "        model.train()\n",
    "        optimizer.zero_grad()\n",
    "        \n",
    "        # train\n",
    "        output = model(data.x, data.edge_index)\n",
    "        loss_train = F.nll_loss(output[train_idx], data.y[train_idx])\n",
    "        loss_train.backward()\n",
    "        optimizer.step()\n",
    "        \n",
    "        # validation\n",
    "        model.eval()\n",
    "        with torch.no_grad():\n",
    "            output = model(data.x, data.edge_index)\n",
    "            loss_val = F.nll_loss(output[val_idx], data.y[val_idx])\n",
    "            pred_val = output[val_idx].max(1)[1]\n",
    "            acc_val = accuracy_score(data.y[val_idx].cpu().numpy(), pred_val.cpu().numpy())\n",
    "        \n",
    "        train_losses.append(loss_train.item())\n",
    "        val_losses.append(loss_val.item())\n",
    "        val_accuracies.append(acc_val)\n",
    "        \n",
    "        if epoch % 10 == 0:\n",
    "            print(f'Epoch {epoch:03d}, Train Loss: {loss_train:.4f}, '\n",
    "                  f'Val Loss: {loss_val:.4f}, Val Acc: {acc_val:.4f}')\n",
    "    \n",
    "    return train_losses, val_losses, val_accuracies\n",
    "\n",
    "def evaluate_model(model: nn.Module, data: Data, test_idx, log_info=True):\n",
    "    \"\"\"Evaluate the model on test set.\"\"\"\n",
    "    model.eval()\n",
    "    data = data.to(next(model.parameters()).device)\n",
    "    \n",
    "    with torch.no_grad():\n",
    "        output = model(data.x, data.edge_index)\n",
    "        pred_test = output[test_idx].max(1)[1]\n",
    "        acc_test = accuracy_score(data.y[test_idx].cpu().numpy(), pred_test.cpu().numpy())\n",
    "        \n",
    "        if log_info:\n",
    "            print(f'\\nTest Accuracy: {acc_test:.4f}')\n",
    "            print('\\nClassification Report:')\n",
    "            print(classification_report(\n",
    "                data.y[test_idx].cpu().numpy(), pred_test.cpu().numpy())\n",
    "            )\n",
    "\n",
    "    return acc_test, pred_test"
   ]
  },
  {
   "cell_type": "markdown",
   "id": "61a2fc6d",
   "metadata": {},
   "source": [
    "## main"
   ]
  },
  {
   "cell_type": "markdown",
   "id": "a6132985",
   "metadata": {},
   "source": [
    "### train model and training parameters"
   ]
  },
  {
   "cell_type": "code",
   "execution_count": 5,
   "id": "249d242f",
   "metadata": {},
   "outputs": [
    {
     "name": "stdout",
     "output_type": "stream",
     "text": [
      "[[ 402  163]\n",
      " [ 659  163]\n",
      " [1696  163]\n",
      " ...\n",
      " [2258 1887]\n",
      " [1887 1902]\n",
      " [1686  837]]\n",
      "\n",
      "Starting training...\n",
      "Epoch 000, Train Loss: 1.9303, Val Loss: 1.7769, Val Acc: 0.4085\n",
      "Epoch 010, Train Loss: 0.6772, Val Loss: 0.6505, Val Acc: 0.8392\n",
      "Epoch 020, Train Loss: 0.3209, Val Loss: 0.3882, Val Acc: 0.8669\n",
      "Epoch 030, Train Loss: 0.2153, Val Loss: 0.3766, Val Acc: 0.8706\n",
      "Epoch 040, Train Loss: 0.1817, Val Loss: 0.3770, Val Acc: 0.8669\n",
      "Epoch 050, Train Loss: 0.1573, Val Loss: 0.3945, Val Acc: 0.8632\n",
      "Epoch 060, Train Loss: 0.1500, Val Loss: 0.4005, Val Acc: 0.8651\n",
      "Epoch 070, Train Loss: 0.1377, Val Loss: 0.4015, Val Acc: 0.8614\n",
      "Epoch 080, Train Loss: 0.1265, Val Loss: 0.4040, Val Acc: 0.8632\n",
      "Epoch 090, Train Loss: 0.1289, Val Loss: 0.4140, Val Acc: 0.8595\n",
      "Epoch 100, Train Loss: 0.1226, Val Loss: 0.4205, Val Acc: 0.8577\n",
      "Epoch 110, Train Loss: 0.1124, Val Loss: 0.4210, Val Acc: 0.8614\n",
      "Epoch 120, Train Loss: 0.1057, Val Loss: 0.4206, Val Acc: 0.8688\n",
      "Epoch 130, Train Loss: 0.1073, Val Loss: 0.4420, Val Acc: 0.8614\n",
      "Epoch 140, Train Loss: 0.1071, Val Loss: 0.4253, Val Acc: 0.8577\n",
      "Epoch 150, Train Loss: 0.1027, Val Loss: 0.4404, Val Acc: 0.8595\n",
      "Epoch 160, Train Loss: 0.1012, Val Loss: 0.4365, Val Acc: 0.8540\n",
      "Epoch 170, Train Loss: 0.0971, Val Loss: 0.4438, Val Acc: 0.8632\n",
      "Epoch 180, Train Loss: 0.0894, Val Loss: 0.4422, Val Acc: 0.8632\n",
      "Epoch 190, Train Loss: 0.0887, Val Loss: 0.4488, Val Acc: 0.8558\n"
     ]
    },
    {
     "data": {
      "image/png": "[encoded data removed]",
      "text/plain": [
       "<Figure size 1200x400 with 2 Axes>"
      ]
     },
     "metadata": {},
     "output_type": "display_data"
    }
   ],
   "source": [
    "torch.manual_seed(1)\n",
    "np.random.seed(1)\n",
    "label_encoder = LabelEncoder()\n",
    "\n",
    "# load dataset and preprocess\n",
    "LABELS_ENCODED = label_encoder.fit_transform(LABELS)\n",
    "data = create_pyg_data(FEATURES, EDGES_IDX, LABELS_ENCODED).to(device)\n",
    "print(EDGES_IDX)\n",
    "\n",
    "# create train, validation, and test splits\n",
    "train_idx, val_idx, test_idx = create_train_val_test_split(data.num_nodes)\n",
    "train_idx = torch.LongTensor(train_idx).to(device)\n",
    "val_idx = torch.LongTensor(val_idx).to(device)\n",
    "test_idx = torch.LongTensor(test_idx).to(device)\n",
    "\n",
    "# create GNN model\n",
    "nfeat = data.num_node_features  # 1433\n",
    "nhid = 32\n",
    "nclass = len(torch.unique(data.y))  # 7\n",
    "dropout = 0.5\n",
    "wd = 5e-4\n",
    "lr = 0.01\n",
    "model = GCN(nfeat=nfeat, nhid=nhid, nclass=nclass, dropout=dropout).to(device)\n",
    "optimizer = optim.Adam(model.parameters(), lr=lr, weight_decay=wd)\n",
    "\n",
    "# train\n",
    "print(\"\\nStarting training...\")\n",
    "train_losses, val_losses, val_accuracies = train_gnn(\n",
    "    model, optimizer, data, train_idx, val_idx, epochs=200\n",
    ")\n",
    "\n",
    "plot_training_curves(train_losses, val_losses, val_accuracies)"
   ]
  },
  {
   "cell_type": "markdown",
   "id": "48fbb0c2",
   "metadata": {},
   "source": [
    "## evaluate"
   ]
  },
  {
   "cell_type": "code",
   "execution_count": 6,
   "id": "ca44fdb2",
   "metadata": {},
   "outputs": [
    {
     "name": "stdout",
     "output_type": "stream",
     "text": [
      "\n",
      "Evaluating on test set...\n",
      "\n",
      "Test Accuracy: 0.8600\n",
      "\n",
      "Classification Report:\n",
      "              precision    recall  f1-score   support\n",
      "\n",
      "           0       0.87      0.80      0.83        49\n",
      "           1       0.90      0.95      0.92        97\n",
      "           2       0.86      0.91      0.88       156\n",
      "           3       0.87      0.85      0.86        80\n",
      "           4       0.91      0.82      0.87        51\n",
      "           5       0.84      0.89      0.86        36\n",
      "           6       0.75      0.70      0.73        74\n",
      "\n",
      "    accuracy                           0.86       543\n",
      "   macro avg       0.86      0.85      0.85       543\n",
      "weighted avg       0.86      0.86      0.86       543\n",
      "\n",
      "Test accuracy: 0.8600\n"
     ]
    }
   ],
   "source": [
    "print(\"\\nEvaluating on test set...\")\n",
    "test_acc, test_pred = evaluate_model(model, data, test_idx)\n",
    "print(f\"Test accuracy: {test_acc:.4f}\")"
   ]
  },
  {
   "cell_type": "markdown",
   "id": "fe17320c",
   "metadata": {},
   "source": [
    "## Create PyGSP Graph"
   ]
  },
  {
   "cell_type": "code",
   "execution_count": 7,
   "id": "53b89daa",
   "metadata": {},
   "outputs": [],
   "source": [
    "def create_pygsp_graph(edges, num_nodes) -> graphs.Graph: \n",
    "    # adjacency matrix\n",
    "    adj_matrix = sp.sparse.coo_matrix(\n",
    "        (np.ones(len(edges)),\n",
    "        (edges[:, 0], edges[:, 1])), \n",
    "        shape=(num_nodes, num_nodes)\n",
    "    )\n",
    "    adj_matrix = adj_matrix + adj_matrix.T\n",
    "    adj_matrix.data = np.ones(len(adj_matrix.data))\n",
    "\n",
    "    # pygsp graph\n",
    "    G = graphs.Graph(adj_matrix)\n",
    "    G.compute_laplacian()\n",
    "    G.set_coordinates()\n",
    "    \n",
    "    return G"
   ]
  },
  {
   "cell_type": "markdown",
   "id": "aff01560",
   "metadata": {},
   "source": [
    "## Apply coarsening by Loukas"
   ]
  },
  {
   "cell_type": "code",
   "execution_count": 8,
   "id": "d4915c91",
   "metadata": {},
   "outputs": [],
   "source": [
    "def apply_graph_coarsening(G: graphs.Graph, method='variation_neighborhoods', ratio=0.5, K=3):\n",
    "    \"\"\"\n",
    "    Output:\n",
    "      - C: coarsening matrix (n, N)\n",
    "      - Gc: coarsened graph (n, n)\n",
    "      - Call: all coarsened graphs (levels, n_l, N)\n",
    "      - Gall: all original graphs (levels, n_l, n_l)\n",
    "    \"\"\"\n",
    "    \n",
    "    available_methods = ['variation_neighborhoods', 'variation_edges', 'variation_cliques', 'heavy_edge', 'algebraic_JC', 'affinity_GS', 'kron'] \n",
    "    if method not in available_methods:\n",
    "        raise ValueError(f\"Unknown coarsening method: {method}. Method must be one of {available_methods}.\")\n",
    "    \n",
    "    print(f\"Applying graph coarsening with method: {method}\")\n",
    "\n",
    "    C, Gc, Call, Gall = coarsen(G, K=K, method=method, r=ratio)\n",
    "\n",
    "    print(f\"Original graph: {G.N} nodes, {G.Ne} edges\")\n",
    "    print(f\"Coarsened graph: {Gc.N} nodes, {Gc.Ne} edges\")\n",
    "    print(f\"Reduction ratio: {G.N / Gc.N:.2f}\")\n",
    "    \n",
    "    return C, Gc, Call, Gall"
   ]
  },
  {
   "cell_type": "code",
   "execution_count": 9,
   "id": "5d52785c",
   "metadata": {},
   "outputs": [],
   "source": [
    "def get_coarsened_edges_and_features(C, edges_idx, features):\n",
    "    \"\"\"\n",
    "    Coarsen edges and features based on the coarsening matrix C;\n",
    "    the feature matrix (N x D) is made by summing up features from nodes that are coarsened into the same supernode.\n",
    "\n",
    "    Output:\n",
    "      - edges_idx_coarsened: coarsened edges index (num_edges, 2)\n",
    "      - features_coarsened: coarsened features (num_nodes_coarsened, num_features)\n",
    "    \"\"\"\n",
    "\n",
    "    idx_map = {}\n",
    "    features_coarsened = np.zeros((C.shape[0], features.shape[1]), dtype=np.float32)\n",
    "    for supernode, node in zip(*C.nonzero()):\n",
    "        idx_map[node] = supernode\n",
    "        features_coarsened[supernode] += features[node]\n",
    "    \n",
    "    edges_idx_coarsened = []\n",
    "    for edge in edges_idx:\n",
    "        u, v = edge[0], edge[1]\n",
    "        if idx_map[u] != idx_map[v]:\n",
    "            edges_idx_coarsened.append((idx_map[u], idx_map[v]))\n",
    "    edges_idx_coarsened = np.array(edges_idx_coarsened)\n",
    "    \n",
    "    return edges_idx_coarsened, features_coarsened"
   ]
  },
  {
   "cell_type": "code",
   "execution_count": null,
   "id": "54fe41c9",
   "metadata": {},
   "outputs": [
    {
     "name": "stdout",
     "output_type": "stream",
     "text": [
      "Applying graph coarsening with method: variation_neighborhoods\n",
      "Original graph: 2708 nodes, 5278 edges\n",
      "Coarsened graph: 1354 nodes, 2891 edges\n",
      "Reduction ratio: 2.00\n"
     ]
    }
   ],
   "source": [
    "G_original = create_pygsp_graph(EDGES_IDX, len(NODE_IDS))\n",
    "\n",
    "method = 'variation_neighborhoods'\n",
    "\n",
    "C, Gc, Call, Gall = apply_graph_coarsening(G_original, method=method, ratio=0.5, K=50)"
   ]
  },
  {
   "cell_type": "code",
   "execution_count": 17,
   "id": "a68bdf59",
   "metadata": {},
   "outputs": [],
   "source": [
    "# visualize_coarsening_results(G_original, Gc, method_name=method)\n",
    "# visualize_graph_statistics(G_original, Gc, method)"
   ]
  },
  {
   "cell_type": "markdown",
   "id": "04969b23",
   "metadata": {},
   "source": [
    "## predict on coarsened graph"
   ]
  },
  {
   "cell_type": "code",
   "execution_count": 15,
   "id": "246b0074",
   "metadata": {},
   "outputs": [
    {
     "data": {
      "text/plain": [
       "0.8836779911373708"
      ]
     },
     "execution_count": 15,
     "metadata": {},
     "output_type": "execute_result"
    }
   ],
   "source": [
    "edges_idx_coarsened, features_coarsened = get_coarsened_edges_and_features(C, EDGES_IDX, FEATURES)\n",
    "data_coarsened = create_pyg_data(features_coarsened, edges_idx_coarsened, np.zeros(features_coarsened.shape[0]))\n",
    "\n",
    "full_mask = [i for i in range(C.shape[0])]\n",
    "_, pred_coarsened = evaluate_model(model, data_coarsened, full_mask, log_info=False)\n",
    "\n",
    "pred_fine = np.zeros(len(NODE_IDS), dtype=np.int64)\n",
    "for supernode, node in zip(*C.nonzero()):\n",
    "    pred_fine[node] = pred_coarsened[supernode]\n",
    "\n",
    "accuracy_score(pred_fine, LABELS_ENCODED)"
   ]
  }
 ],
 "metadata": {
  "kernelspec": {
   "display_name": "dml",
   "language": "python",
   "name": "python3"
  },
  "language_info": {
   "codemirror_mode": {
    "name": "ipython",
    "version": 3
   },
   "file_extension": ".py",
   "mimetype": "text/x-python",
   "name": "python",
   "nbconvert_exporter": "python",
   "pygments_lexer": "ipython3",
   "version": "3.11.11"
  }
 },
 "nbformat": 4,
 "nbformat_minor": 5
}
