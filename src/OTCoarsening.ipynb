{
 "cells": [
  {
   "cell_type": "markdown",
   "id": "e8d7b879",
   "metadata": {},
   "source": [
    "# Graph Coarsening on Cora Dataset using OTCoarsening Algorithms"
   ]
  },
  {
   "cell_type": "markdown",
   "id": "6a0e2ee7",
   "metadata": {},
   "source": [
    "## Import"
   ]
  },
  {
   "cell_type": "code",
   "execution_count": 1,
   "id": "965717e9",
   "metadata": {},
   "outputs": [
    {
     "name": "stdout",
     "output_type": "stream",
     "text": [
      "Using device: cuda\n"
     ]
    }
   ],
   "source": [
    "import os\n",
    "import sys\n",
    "import numpy as np\n",
    "\n",
    "# pygsp\n",
    "from pygsp import graphs\n",
    "\n",
    "# scipy\n",
    "import scipy as sp\n",
    "\n",
    "# torch\n",
    "import torch\n",
    "import torch.nn as nn\n",
    "import torch.nn.functional as F\n",
    "import torch.optim as optim\n",
    "import torch_geometric\n",
    "\n",
    "# torch geometric\n",
    "from torch_geometric.nn import GCNConv\n",
    "from torch_geometric.data import Data\n",
    "from torch_geometric.utils import to_undirected\n",
    "\n",
    "# sklearn\n",
    "from sklearn.preprocessing import LabelEncoder\n",
    "from sklearn.metrics import accuracy_score, classification_report\n",
    "\n",
    "# graph coarsening - OTCoarsening by Ma & Chen 2020\n",
    "\n",
    "\n",
    "# datasets\n",
    "data_path = os.path.abspath(os.path.join(\"..\", \"data\"))\n",
    "if data_path not in sys.path:\n",
    "    sys.path.append(data_path)\n",
    "from cora.load_cora import load_cora_dataset\n",
    "\n",
    "# utils\n",
    "from utils.split_dataset import *\n",
    "from utils.visualization import *\n",
    "\n",
    "\n",
    "device = torch.device(\"cuda\" if torch.cuda.is_available() else \"cpu\")\n",
    "print(f\"Using device: {device}\")"
   ]
  }
 ],
 "metadata": {
  "kernelspec": {
   "display_name": "dml",
   "language": "python",
   "name": "python3"
  },
  "language_info": {
   "codemirror_mode": {
    "name": "ipython",
    "version": 3
   },
   "file_extension": ".py",
   "mimetype": "text/x-python",
   "name": "python",
   "nbconvert_exporter": "python",
   "pygments_lexer": "ipython3",
   "version": "3.11.11"
  }
 },
 "nbformat": 4,
 "nbformat_minor": 5
}
